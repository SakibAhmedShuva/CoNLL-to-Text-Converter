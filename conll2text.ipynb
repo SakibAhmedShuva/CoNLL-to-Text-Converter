{
 "cells": [
  {
   "cell_type": "code",
   "execution_count": null,
   "metadata": {},
   "outputs": [],
   "source": [
    "def extract_sentences_from_conll_file(input_file):\n",
    "    sentences = []\n",
    "    current_sentence = []\n",
    "    \n",
    "    try:\n",
    "        with open(input_file, 'r', encoding='utf-8') as f:\n",
    "            for line in f:\n",
    "                line = line.strip()\n",
    "                \n",
    "                # Skip document start markers\n",
    "                if line.startswith('-DOCSTART-'):\n",
    "                    continue\n",
    "                \n",
    "                # Empty line indicates sentence boundary\n",
    "                if not line:\n",
    "                    if current_sentence:\n",
    "                        sentences.append(' '.join(current_sentence))\n",
    "                        current_sentence = []\n",
    "                    continue\n",
    "                \n",
    "                # Split the line by spaces and get the token\n",
    "                parts = line.split()\n",
    "                if parts:\n",
    "                    token = parts[0]\n",
    "                    # Include punctuation but skip single hyphens\n",
    "                    if token != '-':\n",
    "                        current_sentence.append(token)\n",
    "        \n",
    "        # Add the last sentence if there is one\n",
    "        if current_sentence:\n",
    "            sentences.append(' '.join(current_sentence))\n",
    "        \n",
    "        return sentences\n",
    "    except FileNotFoundError:\n",
    "        print(f\"Error: Could not find the file {input_file}\")\n",
    "        return []\n",
    "    except Exception as e:\n",
    "        print(f\"Error reading file: {str(e)}\")\n",
    "        return []\n",
    "\n",
    "def write_sentences_to_text_file(sentences, output_file):\n",
    "    try:\n",
    "        with open(output_file, 'w', encoding='utf-8') as f:\n",
    "            for sentence in sentences:\n",
    "                f.write(f\"{sentence}\\n\")\n",
    "        print(f\"Successfully wrote {len(sentences)} sentences to {output_file}\")\n",
    "    except Exception as e:\n",
    "        print(f\"Error writing to file: {str(e)}\")"
   ]
  },
  {
   "cell_type": "markdown",
   "metadata": {},
   "source": [
    "# Example usage"
   ]
  },
  {
   "cell_type": "code",
   "execution_count": null,
   "metadata": {},
   "outputs": [],
   "source": [
    "input_file = r\"c:\\Users\\Sakib Ahmed\\Desktop\\yours.conll\"  # Replace with your input file path\n",
    "output_file = 'sentences.txt'\n",
    "\n",
    "sentences = extract_sentences_from_conll_file(input_file)\n",
    "if sentences:\n",
    "    write_sentences_to_text_file(sentences, output_file)\n",
    "    \n",
    "    # Print first few sentences as a test\n",
    "    print(\"\\nFirst few sentences extracted:\")\n",
    "    for i, sentence in enumerate(sentences[:3], 1):\n",
    "        print(f\"Sentence {i}: {sentence}\")"
   ]
  }
 ],
 "metadata": {
  "language_info": {
   "name": "python"
  }
 },
 "nbformat": 4,
 "nbformat_minor": 2
}
